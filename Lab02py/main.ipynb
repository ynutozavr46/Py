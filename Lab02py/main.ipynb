{
 "cells": [
  {
   "cell_type": "code",
   "execution_count": 1,
   "metadata": {},
   "outputs": [],
   "source": [
    "import numpy as np\n",
    "import time\n",
    "import random\n",
    "import tracemalloc\n",
    "import matplotlib.pyplot as plt\n",
    "\n",
    "def reverse_array(array):\n",
    "    return array[::-1]\n",
    "\n",
    "def bubble_sort(array):\n",
    "    for i in range(len(array) - 1):\n",
    "        for j in range(len(array) - i - 1):\n",
    "            if array[j] > array[j + 1]:\n",
    "                array[j], array[j + 1] = array[j + 1], array[j]\n",
    "    return array\n",
    "\n",
    "def insertion_sort(array):\n",
    "    for i in range(1, len(array)):\n",
    "        current_element = array[i]\n",
    "        j = i - 1\n",
    "        while j >= 0 and array[j] > current_element:\n",
    "            array[j + 1] = array[j]\n",
    "            j -= 1\n",
    "        array[j + 1] = current_element\n",
    "    return array\n",
    "\n",
    "def quick_sort(array):\n",
    "    if len(array) <= 1:\n",
    "        return array\n",
    "    else:\n",
    "        pivot = array[0]\n",
    "        left = [x for x in array[1:] if x < pivot]\n",
    "        right = [x for x in array[1:] if x >= pivot]\n",
    "        return quick_sort(left) + [pivot] + quick_sort(right)\n",
    "\n",
    "def binary_search(array):\n",
    "    low = 0\n",
    "    high = len(array) - 1\n",
    "    mid = 0\n",
    "    value = random.choice(array.copy())\n",
    "\n",
    "    while low <= high:\n",
    "        mid = (low + high) // 2\n",
    "        if array[mid] == value:\n",
    "            return mid\n",
    "        elif array[mid] < value:\n",
    "            low = mid + 1\n",
    "        else:\n",
    "            high = mid - 1\n",
    "\n",
    "    return -1"
   ]
  },
  {
   "cell_type": "code",
   "execution_count": 2,
   "metadata": {},
   "outputs": [],
   "source": [
    "arrayInt10 = np.random.randint(0, 10, 10).tolist()\n",
    "arrayInt100 = np.random.randint(0, 100, 100).tolist()\n",
    "arrayInt1000 = np.random.randint(0, 1000, 1000).tolist()\n",
    "arrayInt10000 = np.random.randint(0, 10000, 10000).tolist()\n",
    "\n",
    "arrayFloat10 = np.random.uniform(0.0, 10.0, 10).tolist()\n",
    "arrayFloat100 = np.random.uniform(0.0, 100.0, 100).tolist()\n",
    "arrayFloat1000 = np.random.uniform(0.0, 1000.0, 1000).tolist()\n",
    "arrayFloat10000 = np.random.uniform(0.0, 10000.0, 10000).tolist()\n",
    "\n",
    "arrays = [\n",
    "    (\"Int10\", arrayInt10),\n",
    "    (\"Int100\", arrayInt100),\n",
    "    (\"Int1000\", arrayInt1000),\n",
    "    (\"Int10000\", arrayInt10000),\n",
    "    (\"Float10\", arrayFloat10),\n",
    "    (\"Float100\", arrayFloat100),\n",
    "    (\"Float1000\", arrayFloat1000),\n",
    "    (\"Float10000\", arrayFloat10000)\n",
    "]\n",
    "\n",
    "algs = [\n",
    "    reverse_array,\n",
    "    bubble_sort,\n",
    "    insertion_sort,\n",
    "    quick_sort,\n",
    "    binary_search\n",
    "]\n",
    "\n"
   ]
  },
  {
   "cell_type": "code",
   "execution_count": 3,
   "metadata": {},
   "outputs": [
    {
     "name": "stdout",
     "output_type": "stream",
     "text": [
      "Int10 with reverse_array: Time = 0.00013261999920359812, Memory = 160.0\n",
      "Int10 with bubble_sort: Time = 1.9380001322133467e-05, Memory = 192.0\n",
      "Int10 with insertion_sort: Time = 4.419999459059909e-06, Memory = 160.0\n",
      "Int10 with quick_sort: Time = 3.4020000020973386e-05, Memory = 465.6\n",
      "Int10 with binary_search: Time = 3.63600003765896e-05, Memory = 280.0\n",
      "Int100 with reverse_array: Time = 2.120000135619193e-06, Memory = 1600.0\n",
      "Int100 with bubble_sort: Time = 0.00039975999898160807, Memory = 912.0\n",
      "Int100 with insertion_sort: Time = 0.00014150000060908496, Memory = 880.0\n",
      "Int100 with quick_sort: Time = 0.00043104000069433824, Memory = 5064.0\n",
      "Int100 with binary_search: Time = 0.0003912400003173389, Memory = 3464.0\n",
      "Int1000 with reverse_array: Time = 1.2600000627571716e-05, Memory = 16000.0\n",
      "Int1000 with bubble_sort: Time = 0.5820187199999054, Memory = 8937.0\n",
      "Int1000 with insertion_sort: Time = 0.24174904000028619, Memory = 8525.6\n",
      "Int1000 with quick_sort: Time = 0.004623980000178563, Memory = 51928.0\n",
      "Int1000 with binary_search: Time = 0.004772779998893384, Memory = 35928.0\n",
      "Int10000 with reverse_array: Time = 5.538000041269697e-05, Memory = 160000.0\n"
     ]
    },
    {
     "ename": "KeyboardInterrupt",
     "evalue": "",
     "output_type": "error",
     "traceback": [
      "\u001b[1;31m---------------------------------------------------------------------------\u001b[0m",
      "\u001b[1;31mKeyboardInterrupt\u001b[0m                         Traceback (most recent call last)",
      "Cell \u001b[1;32mIn[3], line 19\u001b[0m\n\u001b[0;32m     17\u001b[0m     alg(sorted_array)\n\u001b[0;32m     18\u001b[0m \u001b[38;5;28;01melse\u001b[39;00m:\n\u001b[1;32m---> 19\u001b[0m     \u001b[43malg\u001b[49m\u001b[43m(\u001b[49m\u001b[43marray_copy\u001b[49m\u001b[38;5;241;43m.\u001b[39;49m\u001b[43mcopy\u001b[49m\u001b[43m(\u001b[49m\u001b[43m)\u001b[49m\u001b[43m)\u001b[49m\n\u001b[0;32m     20\u001b[0m end_time \u001b[38;5;241m=\u001b[39m time\u001b[38;5;241m.\u001b[39mperf_counter()\n\u001b[0;32m     21\u001b[0m current, peak \u001b[38;5;241m=\u001b[39m tracemalloc\u001b[38;5;241m.\u001b[39mget_traced_memory()\n",
      "Cell \u001b[1;32mIn[1], line 14\u001b[0m, in \u001b[0;36mbubble_sort\u001b[1;34m(array)\u001b[0m\n\u001b[0;32m     12\u001b[0m     \u001b[38;5;28;01mfor\u001b[39;00m j \u001b[38;5;129;01min\u001b[39;00m \u001b[38;5;28mrange\u001b[39m(\u001b[38;5;28mlen\u001b[39m(array) \u001b[38;5;241m-\u001b[39m i \u001b[38;5;241m-\u001b[39m \u001b[38;5;241m1\u001b[39m):\n\u001b[0;32m     13\u001b[0m         \u001b[38;5;28;01mif\u001b[39;00m array[j] \u001b[38;5;241m>\u001b[39m array[j \u001b[38;5;241m+\u001b[39m \u001b[38;5;241m1\u001b[39m]:\n\u001b[1;32m---> 14\u001b[0m             array[j], array[j \u001b[38;5;241m+\u001b[39m \u001b[38;5;241m1\u001b[39m] \u001b[38;5;241m=\u001b[39m array[j \u001b[38;5;241m+\u001b[39m \u001b[38;5;241m1\u001b[39m], array[j]\n\u001b[0;32m     15\u001b[0m \u001b[38;5;28;01mreturn\u001b[39;00m array\n",
      "\u001b[1;31mKeyboardInterrupt\u001b[0m: "
     ]
    }
   ],
   "source": [
    "results = {}\n",
    "\n",
    "# Кількість повторень для більш точного вимірювання часу\n",
    "repetitions = 5\n",
    "\n",
    "for name, array in arrays:\n",
    "    results[name] = {}\n",
    "    for alg in algs:\n",
    "        total_time = 0\n",
    "        total_memory = 0\n",
    "        for _ in range(repetitions):\n",
    "            array_copy = array.copy()\n",
    "            tracemalloc.start()\n",
    "            start_time = time.perf_counter()\n",
    "            if alg == binary_search:\n",
    "                sorted_array = quick_sort(array_copy)  # Binary search requires sorted array\n",
    "                alg(sorted_array)\n",
    "            else:\n",
    "                alg(array_copy.copy())\n",
    "            end_time = time.perf_counter()\n",
    "            current, peak = tracemalloc.get_traced_memory()\n",
    "            tracemalloc.stop()\n",
    "            total_time += (end_time - start_time)\n",
    "            total_memory += (peak - current)\n",
    "        \n",
    "        avg_time = total_time / repetitions\n",
    "        avg_memory = total_memory / repetitions\n",
    "        \n",
    "        results[name][alg.__name__] = {\n",
    "            \"time\": avg_time,\n",
    "            \"memory\": avg_memory\n",
    "        }\n",
    "\n",
    "        print(f\"{name} with {alg.__name__}: Time = {results[name][alg.__name__]['time']}, Memory = {results[name][alg.__name__]['memory']}\")"
   ]
  },
  {
   "cell_type": "code",
   "execution_count": 5,
   "metadata": {},
   "outputs": [
    {
     "ename": "KeyError",
     "evalue": "'Float10'",
     "output_type": "error",
     "traceback": [
      "\u001b[1;31m---------------------------------------------------------------------------\u001b[0m",
      "\u001b[1;31mKeyError\u001b[0m                                  Traceback (most recent call last)",
      "Cell \u001b[1;32mIn[5], line 5\u001b[0m\n\u001b[0;32m      2\u001b[0m plt\u001b[38;5;241m.\u001b[39mfigure(figsize\u001b[38;5;241m=\u001b[39m(\u001b[38;5;241m14\u001b[39m, \u001b[38;5;241m8\u001b[39m))\n\u001b[0;32m      4\u001b[0m \u001b[38;5;28;01mfor\u001b[39;00m alg \u001b[38;5;129;01min\u001b[39;00m algs:\n\u001b[1;32m----> 5\u001b[0m     times \u001b[38;5;241m=\u001b[39m [\u001b[43mresults\u001b[49m\u001b[43m[\u001b[49m\u001b[43mname\u001b[49m\u001b[43m]\u001b[49m[alg\u001b[38;5;241m.\u001b[39m\u001b[38;5;18m__name__\u001b[39m][\u001b[38;5;124m\"\u001b[39m\u001b[38;5;124mtime\u001b[39m\u001b[38;5;124m\"\u001b[39m] \u001b[38;5;28;01mfor\u001b[39;00m name, _ \u001b[38;5;129;01min\u001b[39;00m arrays]\n\u001b[0;32m      6\u001b[0m     plt\u001b[38;5;241m.\u001b[39mplot([name \u001b[38;5;28;01mfor\u001b[39;00m name, _ \u001b[38;5;129;01min\u001b[39;00m arrays], times, label\u001b[38;5;241m=\u001b[39malg\u001b[38;5;241m.\u001b[39m\u001b[38;5;18m__name__\u001b[39m)\n\u001b[0;32m      8\u001b[0m plt\u001b[38;5;241m.\u001b[39mxlabel(\u001b[38;5;124m\"\u001b[39m\u001b[38;5;124mArray Type\u001b[39m\u001b[38;5;124m\"\u001b[39m)\n",
      "\u001b[1;31mKeyError\u001b[0m: 'Float10'"
     ]
    },
    {
     "data": {
      "text/plain": [
       "<Figure size 1400x800 with 0 Axes>"
      ]
     },
     "metadata": {},
     "output_type": "display_data"
    }
   ],
   "source": [
    "# Time comparison graph with logarithmic scale\n",
    "plt.figure(figsize=(14, 8))\n",
    "\n",
    "for alg in algs:\n",
    "    times = [results[name][alg.__name__][\"time\"] for name, _ in arrays]\n",
    "    plt.plot([name for name, _ in arrays], times, label=alg.__name__)\n",
    "\n",
    "plt.xlabel(\"Array Type\")\n",
    "plt.ylabel(\"Time (seconds)\")\n",
    "plt.yscale('log')\n",
    "plt.title(\"Time Comparison Between Different Algorithms and Array Types (Log Scale)\")\n",
    "plt.legend()\n",
    "plt.show()\n",
    "\n",
    "# Memory comparison graph with logarithmic scale\n",
    "plt.figure(figsize=(14, 8))\n",
    "\n",
    "for alg in algs:\n",
    "    memories = [results[name][alg.__name__][\"memory\"] for name, _ in arrays]\n",
    "    plt.plot([name for name, _ in arrays], memories, label=alg.__name__)\n",
    "\n",
    "plt.xlabel(\"Array Type\")\n",
    "plt.ylabel(\"Memory (bytes)\")\n",
    "plt.yscale('log')\n",
    "plt.title(\"Memory Comparison Between Different Algorithms and Array Types (Log Scale)\")\n",
    "plt.legend()\n",
    "plt.show()"
   ]
  },
  {
   "cell_type": "code",
   "execution_count": 6,
   "metadata": {},
   "outputs": [
    {
     "ename": "KeyError",
     "evalue": "'bubble_sort'",
     "output_type": "error",
     "traceback": [
      "\u001b[1;31m---------------------------------------------------------------------------\u001b[0m",
      "\u001b[1;31mKeyError\u001b[0m                                  Traceback (most recent call last)",
      "Cell \u001b[1;32mIn[6], line 13\u001b[0m\n\u001b[0;32m      8\u001b[0m \u001b[38;5;28;01mfor\u001b[39;00m name, array \u001b[38;5;129;01min\u001b[39;00m arrays:\n\u001b[0;32m      9\u001b[0m     \u001b[38;5;28;01mfor\u001b[39;00m alg \u001b[38;5;129;01min\u001b[39;00m algs:\n\u001b[0;32m     10\u001b[0m         data\u001b[38;5;241m.\u001b[39mappend({\n\u001b[0;32m     11\u001b[0m             \u001b[38;5;124m\"\u001b[39m\u001b[38;5;124mArray Type\u001b[39m\u001b[38;5;124m\"\u001b[39m: name,\n\u001b[0;32m     12\u001b[0m             \u001b[38;5;124m\"\u001b[39m\u001b[38;5;124mAlgorithm\u001b[39m\u001b[38;5;124m\"\u001b[39m: alg\u001b[38;5;241m.\u001b[39m\u001b[38;5;18m__name__\u001b[39m,\n\u001b[1;32m---> 13\u001b[0m             \u001b[38;5;124m\"\u001b[39m\u001b[38;5;124mTime (seconds)\u001b[39m\u001b[38;5;124m\"\u001b[39m: \u001b[43mresults\u001b[49m\u001b[43m[\u001b[49m\u001b[43mname\u001b[49m\u001b[43m]\u001b[49m\u001b[43m[\u001b[49m\u001b[43malg\u001b[49m\u001b[38;5;241;43m.\u001b[39;49m\u001b[38;5;18;43m__name__\u001b[39;49m\u001b[43m]\u001b[49m[\u001b[38;5;124m\"\u001b[39m\u001b[38;5;124mtime\u001b[39m\u001b[38;5;124m\"\u001b[39m],\n\u001b[0;32m     14\u001b[0m             \u001b[38;5;124m\"\u001b[39m\u001b[38;5;124mMemory (bytes)\u001b[39m\u001b[38;5;124m\"\u001b[39m: results[name][alg\u001b[38;5;241m.\u001b[39m\u001b[38;5;18m__name__\u001b[39m][\u001b[38;5;124m\"\u001b[39m\u001b[38;5;124mmemory\u001b[39m\u001b[38;5;124m\"\u001b[39m]\n\u001b[0;32m     15\u001b[0m         })\n\u001b[0;32m     17\u001b[0m \u001b[38;5;66;03m# Конвертуємо список словників у DataFrame\u001b[39;00m\n\u001b[0;32m     18\u001b[0m df \u001b[38;5;241m=\u001b[39m pd\u001b[38;5;241m.\u001b[39mDataFrame(data)\n",
      "\u001b[1;31mKeyError\u001b[0m: 'bubble_sort'"
     ]
    }
   ],
   "source": [
    "import pandas as pd\n",
    "\n",
    "# Створюємо пустий DataFrame\n",
    "df = pd.DataFrame(columns=[\"Array Type\", \"Algorithm\", \"Time (seconds)\", \"Memory (bytes)\"])\n",
    "\n",
    "# Збираємо всі дані у список словників\n",
    "data = []\n",
    "for name, array in arrays:\n",
    "    for alg in algs:\n",
    "        data.append({\n",
    "            \"Array Type\": name,\n",
    "            \"Algorithm\": alg.__name__,\n",
    "            \"Time (seconds)\": results[name][alg.__name__][\"time\"],\n",
    "            \"Memory (bytes)\": results[name][alg.__name__][\"memory\"]\n",
    "        })\n",
    "\n",
    "# Конвертуємо список словників у DataFrame\n",
    "df = pd.DataFrame(data)\n",
    "\n",
    "# Виводимо таблицю\n",
    "print(df)"
   ]
  }
 ],
 "metadata": {
  "kernelspec": {
   "display_name": "Python 3",
   "language": "python",
   "name": "python3"
  },
  "language_info": {
   "codemirror_mode": {
    "name": "ipython",
    "version": 3
   },
   "file_extension": ".py",
   "mimetype": "text/x-python",
   "name": "python",
   "nbconvert_exporter": "python",
   "pygments_lexer": "ipython3",
   "version": "3.12.3"
  }
 },
 "nbformat": 4,
 "nbformat_minor": 2
}
